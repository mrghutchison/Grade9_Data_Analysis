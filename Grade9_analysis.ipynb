{
  "cells": [
    {
      "cell_type": "markdown",
      "metadata": {
        "colab_type": "text",
        "id": "view-in-github"
      },
      "source": [
        "<a href=\"https://colab.research.google.com/github/mrghutchison/Grade9_Data_Analysis/blob/main/Grade9_analysis.ipynb\" target=\"_parent\"><img src=\"https://colab.research.google.com/assets/colab-badge.svg\" alt=\"Open In Colab\"/></a>"
      ]
    },
    {
      "cell_type": "markdown",
      "metadata": {
        "id": "9NwEEYx6inMP"
      },
      "source": [
        "You must upload the data for analysis - click on the folder icon on the left and upload the following data file [GRADES.CSV](https://drive.google.com/file/d/1v6NR9VhqRuX4BmoW-i6WmWcs6GXP7IIO)"
      ]
    },
    {
      "cell_type": "markdown",
      "metadata": {
        "id": "fIXsD4k60fmD"
      },
      "source": [
        "## Grade 9 Coding Expectations\n",
        "\n",
        "\n",
        "\n",
        "*   C2.1 use coding to demonstrate an understanding of algebraic concepts including variables, parameters, equations, and inequalities\n",
        "*   C2.2 create code by decomposing situations into computational steps in order to represent mathematical concepts and relationships, and to solve problems\n",
        "*   C2.3 read code to predict its outcome, and alter code to adjust constraints, parameters, and outcomes to represent a similar or new mathematical situation   "
      ]
    },
    {
      "cell_type": "markdown",
      "metadata": {
        "id": "D4AlrOc_1F8_"
      },
      "source": [
        "## Adding extra libraries to Python for Data Analysis"
      ]
    },
    {
      "cell_type": "code",
      "execution_count": null,
      "metadata": {
        "id": "H0AES_lo_sQP"
      },
      "outputs": [],
      "source": [
        "import numpy as np\n",
        "import pandas as pd\n",
        "import matplotlib.pyplot as plt\n",
        "%matplotlib inline "
      ]
    },
    {
      "cell_type": "markdown",
      "metadata": {
        "id": "cxOrpsJB1PVL"
      },
      "source": [
        "## Bring Data into Python\n",
        "Data can be of various formats. This data was exported from a Microsoft Excel / Google Sheets documents as Comma Separated Value (CSV) data. \n",
        "\n",
        "The data will now be available for computation in a variable as a [dataframe](https://www.tutorialspoint.com/python_pandas/python_pandas_dataframe.htm)"
      ]
    },
    {
      "cell_type": "code",
      "execution_count": null,
      "metadata": {
        "id": "zIexJlokDA9t"
      },
      "outputs": [],
      "source": [
        "student_data = pd.read_csv('https://mth1w-dataset-1.s3.amazonaws.com/grades.csv')\n",
        "student_data.to_csv(\"grades.csv\")"
      ]
    },
    {
      "cell_type": "markdown",
      "metadata": {
        "id": "N7NeRbWf3c6H"
      },
      "source": [
        "Example some of the statistical measures of the numeric data of minutes and grade"
      ]
    },
    {
      "cell_type": "markdown",
      "metadata": {
        "id": "3wJzqlbz3xsJ"
      },
      "source": [
        "# D1. Collection, Representation, and Analysis of Data\n",
        "\n",
        "\n",
        "\n",
        "*   D1.1 identify a current context involving a large amount of data, and describe potential implications and consequences of its collection, storage, representation, and use\n",
        "Representation and Analysis of Data\n",
        "*   D1.2 represent and statistically analyse data from a real-life situation involving a single variable in various ways, including the use of quartile values and box plots\n",
        "*   D1.3 create a scatter plot to represent the relationship between two variables, determine the correlation between these variables by testing different regression models using technology, and use a model to make predictions when appropriate\n"
      ]
    },
    {
      "cell_type": "code",
      "execution_count": null,
      "metadata": {
        "colab": {
          "base_uri": "https://localhost:8080/",
          "height": 295
        },
        "id": "bhR5TRpRDSSs",
        "outputId": "be7259c4-81d2-4e68-84fe-c1e9ac98d68e"
      },
      "outputs": [
        {
          "data": {
            "text/html": [
              "<div>\n",
              "<style scoped>\n",
              "    .dataframe tbody tr th:only-of-type {\n",
              "        vertical-align: middle;\n",
              "    }\n",
              "\n",
              "    .dataframe tbody tr th {\n",
              "        vertical-align: top;\n",
              "    }\n",
              "\n",
              "    .dataframe thead th {\n",
              "        text-align: right;\n",
              "    }\n",
              "</style>\n",
              "<table border=\"1\" class=\"dataframe\">\n",
              "  <thead>\n",
              "    <tr style=\"text-align: right;\">\n",
              "      <th></th>\n",
              "      <th>minutes</th>\n",
              "      <th>grade</th>\n",
              "    </tr>\n",
              "  </thead>\n",
              "  <tbody>\n",
              "    <tr>\n",
              "      <th>count</th>\n",
              "      <td>27.000000</td>\n",
              "      <td>27.000000</td>\n",
              "    </tr>\n",
              "    <tr>\n",
              "      <th>mean</th>\n",
              "      <td>2113.444444</td>\n",
              "      <td>86.666667</td>\n",
              "    </tr>\n",
              "    <tr>\n",
              "      <th>std</th>\n",
              "      <td>982.400370</td>\n",
              "      <td>16.002404</td>\n",
              "    </tr>\n",
              "    <tr>\n",
              "      <th>min</th>\n",
              "      <td>549.000000</td>\n",
              "      <td>50.000000</td>\n",
              "    </tr>\n",
              "    <tr>\n",
              "      <th>25%</th>\n",
              "      <td>1318.000000</td>\n",
              "      <td>77.000000</td>\n",
              "    </tr>\n",
              "    <tr>\n",
              "      <th>50%</th>\n",
              "      <td>1984.000000</td>\n",
              "      <td>94.000000</td>\n",
              "    </tr>\n",
              "    <tr>\n",
              "      <th>75%</th>\n",
              "      <td>2759.500000</td>\n",
              "      <td>98.000000</td>\n",
              "    </tr>\n",
              "    <tr>\n",
              "      <th>max</th>\n",
              "      <td>3956.000000</td>\n",
              "      <td>100.000000</td>\n",
              "    </tr>\n",
              "  </tbody>\n",
              "</table>\n",
              "</div>"
            ],
            "text/plain": [
              "           minutes       grade\n",
              "count    27.000000   27.000000\n",
              "mean   2113.444444   86.666667\n",
              "std     982.400370   16.002404\n",
              "min     549.000000   50.000000\n",
              "25%    1318.000000   77.000000\n",
              "50%    1984.000000   94.000000\n",
              "75%    2759.500000   98.000000\n",
              "max    3956.000000  100.000000"
            ]
          },
          "execution_count": 6,
          "metadata": {},
          "output_type": "execute_result"
        }
      ],
      "source": [
        "student_data.describe()"
      ]
    },
    {
      "cell_type": "markdown",
      "metadata": {
        "id": "Ds7qi2BA3lmU"
      },
      "source": [
        "We will now separate each of the columns of data into 2 separate single variable data sets to setup our scatterplot of the 2 variables"
      ]
    },
    {
      "cell_type": "code",
      "execution_count": null,
      "metadata": {
        "id": "Sdd4cx6T_vxv"
      },
      "outputs": [],
      "source": [
        "x = student_data.minutes\n",
        "y = student_data.grade"
      ]
    },
    {
      "cell_type": "code",
      "execution_count": null,
      "metadata": {
        "colab": {
          "base_uri": "https://localhost:8080/",
          "height": 282
        },
        "id": "ePzd90ayD91B",
        "outputId": "97e6fe39-73e4-44bd-807f-f45da12027ed"
      },
      "outputs": [
        {
          "data": {
            "text/plain": [
              "<matplotlib.collections.PathCollection at 0x7f4e0f29fb10>"
            ]
          },
          "execution_count": 8,
          "metadata": {},
          "output_type": "execute_result"
        },
        {
          "data": {
            "image/png": "[encoded data removed]",
            "text/plain": [
              "<Figure size 432x288 with 1 Axes>"
            ]
          },
          "metadata": {
            "needs_background": "light"
          },
          "output_type": "display_data"
        }
      ],
      "source": [
        "plt.scatter(x,y)"
      ]
    },
    {
      "cell_type": "markdown",
      "metadata": {
        "id": "9kMjtqYt41OM"
      },
      "source": [
        "## Building a mathematical model (Linear) of the datasets x and y"
      ]
    },
    {
      "cell_type": "code",
      "execution_count": null,
      "metadata": {
        "id": "WIEcmo8vEuZu"
      },
      "outputs": [],
      "source": [
        "model = np.polyfit(x,y,1)"
      ]
    },
    {
      "cell_type": "markdown",
      "metadata": {
        "id": "ogcaxcg75AX2"
      },
      "source": [
        "## The model contains a slope and an intercept\n",
        "\n",
        "y = mx + b"
      ]
    },
    {
      "cell_type": "code",
      "execution_count": null,
      "metadata": {
        "colab": {
          "base_uri": "https://localhost:8080/"
        },
        "id": "0GpJZCoUFzq0",
        "outputId": "9a578aa6-bdd6-407c-99ba-d15af27249d1"
      },
      "outputs": [
        {
          "name": "stdout",
          "output_type": "stream",
          "text": [
            "slope 0.006913676337681975\n"
          ]
        }
      ],
      "source": [
        "print(\"slope\", model[0])"
      ]
    },
    {
      "cell_type": "code",
      "execution_count": null,
      "metadata": {
        "colab": {
          "base_uri": "https://localhost:8080/"
        },
        "id": "e8kG_If27CrH",
        "outputId": "3703bee8-4d53-4010-db53-7cdbaed2ab1f"
      },
      "outputs": [
        {
          "name": "stdout",
          "output_type": "stream",
          "text": [
            "y-intercept 72.05499582010567\n"
          ]
        }
      ],
      "source": [
        "print (\"y-intercept\", model[1])"
      ]
    },
    {
      "cell_type": "markdown",
      "metadata": {
        "id": "u5Htrhsd7dzb"
      },
      "source": [
        "Model can be used to make predictions\n",
        "\n",
        "What are the some limitations of this model?"
      ]
    },
    {
      "cell_type": "code",
      "execution_count": null,
      "metadata": {
        "colab": {
          "base_uri": "https://localhost:8080/"
        },
        "id": "Zm5Mh0xuGPZL",
        "outputId": "e2d389a6-cf21-40bf-b660-19e2a12f5ae4"
      },
      "outputs": [
        {
          "data": {
            "text/plain": [
              "92.79602483315159"
            ]
          },
          "execution_count": 29,
          "metadata": {},
          "output_type": "execute_result"
        }
      ],
      "source": [
        "model_predict = np.poly1d(model)\n",
        "# What if I did 3000 minutes of homework?\n",
        "model_predict(3000)"
      ]
    },
    {
      "cell_type": "markdown",
      "metadata": {
        "id": "vsMm7FZE7nPU"
      },
      "source": [
        "## Adding a line representing the linear model"
      ]
    },
    {
      "cell_type": "code",
      "execution_count": null,
      "metadata": {
        "id": "3vaRUeNmKGxO"
      },
      "outputs": [],
      "source": [
        "x_times = range(0,4000) # Generate values from 0 minutes of work to 4000 minutes\n",
        "y_predictions = model_predict(x_times) # apply the model to each value and store the results"
      ]
    },
    {
      "cell_type": "markdown",
      "metadata": {
        "id": "8v_NKAsf72L9"
      },
      "source": [
        "## Plotting multiple datasets on a single scatter plot"
      ]
    },
    {
      "cell_type": "code",
      "execution_count": null,
      "metadata": {
        "colab": {
          "base_uri": "https://localhost:8080/",
          "height": 295
        },
        "id": "cdAH1LG0GbkD",
        "outputId": "02d044f6-d7d5-4d59-a2bf-dc93e20d8797"
      },
      "outputs": [
        {
          "data": {
            "image/png": "[encoded data removed]",
            "text/plain": [
              "<Figure size 432x288 with 1 Axes>"
            ]
          },
          "metadata": {
            "needs_background": "light"
          },
          "output_type": "display_data"
        }
      ],
      "source": [
        "plt.scatter(x, y)\n",
        "plt.plot(x_times,y_predictions, color='red')\n",
        "plt.xlabel(\"Minutes of coding\")\n",
        "plt.ylabel(\"Grades\")\n",
        "plt.title(\"Linear Regression Analysis\")\n",
        "plt.show()"
      ]
    },
    {
      "cell_type": "markdown",
      "metadata": {
        "id": "biE8OLIP79Vi"
      },
      "source": [
        "D1.2 represent and statistically analyse data from a real-life situation involving a single variable in various ways, including the use of quartile values and box plots"
      ]
    },
    {
      "cell_type": "code",
      "execution_count": null,
      "metadata": {
        "colab": {
          "base_uri": "https://localhost:8080/",
          "height": 281
        },
        "id": "E6-F24C_KxCA",
        "outputId": "2c7b7362-7436-4c06-b3fd-33f281642c13"
      },
      "outputs": [
        {
          "data": {
            "image/png": "[encoded data removed]",
            "text/plain": [
              "<Figure size 432x288 with 1 Axes>"
            ]
          },
          "metadata": {
            "needs_background": "light"
          },
          "output_type": "display_data"
        }
      ],
      "source": [
        "# distribution of grades\n",
        "plt.boxplot(y,labels=[\"Grade 10 Computer Studies\"])\n",
        "plt.ylabel(\"Grade\")\n",
        "plt.title(\"Box plot of grades\")\n",
        "plt.show()"
      ]
    },
    {
      "cell_type": "code",
      "execution_count": null,
      "metadata": {
        "colab": {
          "base_uri": "https://localhost:8080/"
        },
        "id": "cIfFF8XlM_Om",
        "outputId": "87a007b5-3903-42d2-f9ee-d79231d3795d"
      },
      "outputs": [
        {
          "data": {
            "text/plain": [
              "94.0"
            ]
          },
          "execution_count": 33,
          "metadata": {},
          "output_type": "execute_result"
        }
      ],
      "source": [
        "# median grade\n",
        "median = np.median(y)\n",
        "median"
      ]
    },
    {
      "cell_type": "code",
      "execution_count": null,
      "metadata": {
        "colab": {
          "base_uri": "https://localhost:8080/"
        },
        "id": "x2laUP_MNWE2",
        "outputId": "5381b4c7-1701-4796-8010-a38e01f3a642"
      },
      "outputs": [
        {
          "data": {
            "text/plain": [
              "77.0"
            ]
          },
          "execution_count": 34,
          "metadata": {},
          "output_type": "execute_result"
        }
      ],
      "source": [
        "# distributions\n",
        "# 25th percentile\n",
        "percentile_25 = np.percentile(y,25)\n",
        "percentile_25"
      ]
    },
    {
      "cell_type": "code",
      "execution_count": null,
      "metadata": {
        "colab": {
          "base_uri": "https://localhost:8080/"
        },
        "id": "QUVh4cakNkuY",
        "outputId": "796f7646-50e2-4982-b206-827de318a1b9"
      },
      "outputs": [
        {
          "data": {
            "text/plain": [
              "98.0"
            ]
          },
          "execution_count": 35,
          "metadata": {},
          "output_type": "execute_result"
        }
      ],
      "source": [
        "# distributions\n",
        "# 75th percentile\n",
        "percentile_75 = np.percentile(y,75)\n",
        "percentile_75"
      ]
    },
    {
      "cell_type": "code",
      "execution_count": null,
      "metadata": {
        "colab": {
          "base_uri": "https://localhost:8080/"
        },
        "id": "1snIHV55NLzg",
        "outputId": "95990a66-4aea-4e53-eeae-170c1b0a9d3c"
      },
      "outputs": [
        {
          "data": {
            "text/plain": [
              "86.66666666666667"
            ]
          },
          "execution_count": 36,
          "metadata": {},
          "output_type": "execute_result"
        }
      ],
      "source": [
        "# arithmetic mean grade\n",
        "mean = np.mean(y)\n",
        "mean"
      ]
    },
    {
      "cell_type": "code",
      "execution_count": null,
      "metadata": {
        "colab": {
          "base_uri": "https://localhost:8080/",
          "height": 281
        },
        "id": "EssWPT0GNSNQ",
        "outputId": "4cdf2044-53bd-493c-b69d-c75be90dc258"
      },
      "outputs": [
        {
          "data": {
            "image/png": "[encoded data removed]",
            "text/plain": [
              "<Figure size 432x288 with 1 Axes>"
            ]
          },
          "metadata": {
            "needs_background": "light"
          },
          "output_type": "display_data"
        }
      ],
      "source": [
        "# practice time\n",
        "plt.boxplot(x/60,labels=[\"Grade 10 Computer Studies\"])\n",
        "plt.ylabel(\"Coding Time (hours)\")\n",
        "plt.title(\"Box plot of coding time\")\n",
        "plt.show()"
      ]
    },
    {
      "cell_type": "code",
      "execution_count": null,
      "metadata": {
        "colab": {
          "base_uri": "https://localhost:8080/"
        },
        "id": "xstLi02bOEMx",
        "outputId": "b8762b99-db33-43c5-c6f7-1ca74c708ffa"
      },
      "outputs": [
        {
          "name": "stdout",
          "output_type": "stream",
          "text": [
            "Median time spent coding was 33.1 hours.\n"
          ]
        }
      ],
      "source": [
        "median = np.median(x/60)\n",
        "print (f\"Median time spent coding was {median:.1f} hours.\")"
      ]
    },
    {
      "cell_type": "markdown",
      "metadata": {
        "id": "UmcuicgS4CD-"
      },
      "source": [
        "# Exploring Grade 9 Math concepts using Scratch\n",
        "[Scratch resources](https://sites.google.com/apps.hpedsb.on.ca/codingchallenge/home)"
      ]
    }
  ],
  "metadata": {
    "colab": {
      "include_colab_link": true,
      "name": "Grade9_analysis.ipynb",
      "provenance": []
    },
    "kernelspec": {
      "display_name": "Python 3",
      "name": "python3"
    },
    "language_info": {
      "name": "python"
    }
  },
  "nbformat": 4,
  "nbformat_minor": 2
}
